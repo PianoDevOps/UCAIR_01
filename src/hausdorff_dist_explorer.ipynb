{
 "cells": [
  {
   "cell_type": "code",
   "execution_count": 6,
   "metadata": {},
   "outputs": [],
   "source": [
    "import numpy as np\n",
    "import matplotlib.pyplot as plt\n",
    "from skimage.metrics import hausdorff_distance, hausdorff_pair"
   ]
  },
  {
   "cell_type": "code",
   "execution_count": 1,
   "metadata": {},
   "outputs": [],
   "source": [
    "import matplotlib.pyplot as plt"
   ]
  },
  {
   "cell_type": "code",
   "execution_count": 2,
   "metadata": {},
   "outputs": [],
   "source": [
    "from scipy.spatial.distance import directed_hausdorff"
   ]
  },
  {
   "cell_type": "markdown",
   "metadata": {},
   "source": [
    "The Hausdorff distance is the maximum distance between any point on\n",
    "`image_a` and its nearest point on `image_b`, \n",
    "and vice-versa. The function calculates forward and backward mean distances and returns the largest of the two.\n",
    "\n",
    "Since HD is a measure of dissimilarity (larger HD means less similar), it's important to understand how to interpret its values.\n",
    "\n",
    "Here's a breakdown:\n",
    "\n",
    "Zero HD: A Hausdorff distance of 0 means the two sets of points (or shapes) are identical.  Every point in set A is also in set B, and vice-versa.\n",
    "\n",
    "Small HD: A small HD indicates that the two sets are \"close\" or \"similar.\"  All points in set A are near some point in set B, and all points in set B are near some point in set A.  The smaller the value, the more similar the sets.\n",
    "\n",
    "Large HD: A large HD means the sets are \"dissimilar.\"  There are points in set A that are far away from any point in set B, or vice-versa.\n",
    "\n",
    "Units: The HD's units are the same as the units of your point coordinates (e.g., pixels if you're working with images, meters if you're working with real-world distances).  This is crucial for interpretation.  An HD of 5 pixels is very different from an HD of 5 meters!\n",
    "\n",
    "Context is Key: The most important thing is to interpret the HD in the context of your application.  What constitutes a \"small\" or \"large\" HD depends entirely on what you're measuring and what your goals are.\n",
    "\n",
    "Image Matching: If you're comparing two nearly identical images, an HD of 2-3 pixels might be considered large."
   ]
  },
  {
   "cell_type": "code",
   "execution_count": 3,
   "metadata": {},
   "outputs": [
    {
     "ename": "NameError",
     "evalue": "name 'np' is not defined",
     "output_type": "error",
     "traceback": [
      "\u001b[0;31m---------------------------------------------------------------------------\u001b[0m",
      "\u001b[0;31mNameError\u001b[0m                                 Traceback (most recent call last)",
      "Cell \u001b[0;32mIn[3], line 9\u001b[0m\n\u001b[1;32m      6\u001b[0m shape \u001b[38;5;241m=\u001b[39m (\u001b[38;5;241m7\u001b[39m, \u001b[38;5;241m1\u001b[39m) \n\u001b[1;32m      8\u001b[0m \u001b[38;5;66;03m# Generate images, apply above identical shape to both arrs\u001b[39;00m\n\u001b[0;32m----> 9\u001b[0m image_a \u001b[38;5;241m=\u001b[39m \u001b[43mnp\u001b[49m\u001b[38;5;241m.\u001b[39mzeros(shape, dtype\u001b[38;5;241m=\u001b[39m\u001b[38;5;28mbool\u001b[39m) \n\u001b[1;32m     10\u001b[0m image_a[:] \u001b[38;5;241m=\u001b[39m \u001b[38;5;28;01mFalse\u001b[39;00m \u001b[38;5;66;03m# Explicitly set all pixels to False (black)\u001b[39;00m\n\u001b[1;32m     11\u001b[0m image_b \u001b[38;5;241m=\u001b[39m np\u001b[38;5;241m.\u001b[39mzeros(shape, dtype\u001b[38;5;241m=\u001b[39m\u001b[38;5;28mbool\u001b[39m)\n",
      "\u001b[0;31mNameError\u001b[0m: name 'np' is not defined"
     ]
    }
   ],
   "source": [
    "# Image coordinates are (row, col) or (y, x), NOT (x, y)\n",
    "point_a = (3, 0) \n",
    "point_b = (6, 0)\n",
    "\n",
    "# Shape chosen to accommodate both point_a and point_b\n",
    "shape = (7, 1) \n",
    "\n",
    "# Generate images, apply above identical shape to both arrs\n",
    "image_a = np.zeros(shape, dtype=bool) \n",
    "image_a[:] = False # Explicitly set all pixels to False (black)\n",
    "image_b = np.zeros(shape, dtype=bool)\n",
    "image_b[:] = False # Explicitly set all pixels to False (black)\n",
    "\n",
    "image_a[point_a] = True # turning on single pixel (3, 0) within ALL-BLACK img_a\n",
    "image_b[point_b] = True # turning on single pixel (6, 0) within ALL-BLACK img_b\n",
    "\n",
    "hd = hausdorff_distance(image_a, image_b) # HD with default method: 'standard'\n",
    "print(f\"Hausdorff distance: {hd}\") #  \"Euclidean Distance\" between coordinates of non-zero pixels in image_a and image_b"
   ]
  },
  {
   "cell_type": "code",
   "execution_count": null,
   "metadata": {},
   "outputs": [
    {
     "data": {
      "text/plain": [
       "<matplotlib.image.AxesImage at 0x7fc9c2ec1490>"
      ]
     },
     "execution_count": 8,
     "metadata": {},
     "output_type": "execute_result"
    },
    {
     "data": {
      "image/png": "[encoded data removed]",
      "text/plain": [
       "<Figure size 640x480 with 1 Axes>"
      ]
     },
     "metadata": {},
     "output_type": "display_data"
    }
   ],
   "source": [
    "plt.imshow(image_a, cmap='gray')"
   ]
  },
  {
   "cell_type": "code",
   "execution_count": null,
   "metadata": {},
   "outputs": [
    {
     "data": {
      "text/plain": [
       "<matplotlib.image.AxesImage at 0x7fc9c394e8a0>"
      ]
     },
     "execution_count": 9,
     "metadata": {},
     "output_type": "execute_result"
    },
    {
     "data": {
      "image/png": "[encoded data removed]",
      "text/plain": [
       "<Figure size 640x480 with 1 Axes>"
      ]
     },
     "metadata": {},
     "output_type": "display_data"
    }
   ],
   "source": [
    "plt.imshow(image_b, cmap='gray')"
   ]
  },
  {
   "cell_type": "code",
   "execution_count": null,
   "metadata": {},
   "outputs": [
    {
     "name": "stdout",
     "output_type": "stream",
     "text": [
      "Hausdorff distance with shape (10, 5): 3.0\n"
     ]
    }
   ],
   "source": [
    "# Test with a different shape\n",
    "shape2 = (10, 5)\n",
    "image_a2 = np.zeros(shape2, dtype=bool)\n",
    "image_a2[:] = False\n",
    "image_b2 = np.zeros(shape2, dtype=bool)\n",
    "image_b2[:] = False\n",
    "image_a2[point_a] = True\n",
    "image_b2[point_b] = True\n",
    "\n",
    "hd2 = hausdorff_distance(image_a2, image_b2)\n",
    "print(f\"Hausdorff distance with shape {shape2}: {hd2}\")"
   ]
  },
  {
   "cell_type": "code",
   "execution_count": null,
   "metadata": {},
   "outputs": [
    {
     "data": {
      "text/plain": [
       "<matplotlib.image.AxesImage at 0x7fc9b621e330>"
      ]
     },
     "execution_count": 11,
     "metadata": {},
     "output_type": "execute_result"
    },
    {
     "data": {
      "image/png": "[encoded data removed]",
      "text/plain": [
       "<Figure size 640x480 with 1 Axes>"
      ]
     },
     "metadata": {},
     "output_type": "display_data"
    }
   ],
   "source": [
    "plt.imshow(image_a2, cmap='gray')"
   ]
  },
  {
   "cell_type": "code",
   "execution_count": null,
   "metadata": {},
   "outputs": [
    {
     "data": {
      "text/plain": [
       "<matplotlib.image.AxesImage at 0x7fc9b64106e0>"
      ]
     },
     "execution_count": 12,
     "metadata": {},
     "output_type": "execute_result"
    },
    {
     "data": {
      "image/png": "[encoded data removed]",
      "text/plain": [
       "<Figure size 640x480 with 1 Axes>"
      ]
     },
     "metadata": {},
     "output_type": "display_data"
    }
   ],
   "source": [
    "plt.imshow(image_b2, cmap='gray')"
   ]
  },
  {
   "cell_type": "code",
   "execution_count": null,
   "metadata": {},
   "outputs": [
    {
     "name": "stdout",
     "output_type": "stream",
     "text": [
      "Hausdorff distance between a and c: 2.23606797749979\n"
     ]
    }
   ],
   "source": [
    "# Example with points closer together\n",
    "point_c = (4, 2) # try other coordinates e.g. (4, 0)\n",
    "image_c = np.zeros(shape2, dtype=bool) # try other shapes e.g. early initialized 'shape'\n",
    "image_c[:] = False\n",
    "image_c[point_c] = True\n",
    "hd_ac = hausdorff_distance(image_a, image_c)\n",
    "print(f\"Hausdorff distance between a and c: {hd_ac}\")"
   ]
  },
  {
   "cell_type": "code",
   "execution_count": null,
   "metadata": {},
   "outputs": [
    {
     "data": {
      "text/plain": [
       "(array([3, 0]), array([4, 2]))"
      ]
     },
     "execution_count": 14,
     "metadata": {},
     "output_type": "execute_result"
    }
   ],
   "source": [
    "hp = hausdorff_pair(image_a, image_c) # return the two initial points' original coordinates (reverse eng.)\n",
    "hp "
   ]
  },
  {
   "cell_type": "code",
   "execution_count": null,
   "metadata": {},
   "outputs": [
    {
     "data": {
      "text/plain": [
       "np.float64(3.0)"
      ]
     },
     "execution_count": 15,
     "metadata": {},
     "output_type": "execute_result"
    }
   ],
   "source": [
    "mhd = hausdorff_distance(image_a, image_b, method='modified') # computes MHD\n",
    "mhd"
   ]
  },
  {
   "cell_type": "code",
   "execution_count": null,
   "metadata": {},
   "outputs": [
    {
     "name": "stdout",
     "output_type": "stream",
     "text": [
      "(0.0, 4, 1)\n",
      "3\n"
     ]
    }
   ],
   "source": [
    "dhd = directed_hausdorff(image_a, image_b) # Scipy requires the points to be represented as ARRAYS OF COORDINATES\n",
    "print(dhd) # NOTE: different result due to boolean (non-arrays) img_a, img_b \n",
    "print(len(dhd))"
   ]
  },
  {
   "cell_type": "code",
   "execution_count": null,
   "metadata": {},
   "outputs": [
    {
     "name": "stdout",
     "output_type": "stream",
     "text": [
      "Directed Hausdorff distance from a to b: (3.605551275463989, 0, 0)\n",
      "Directed Hausdorff distance from b to a: (3.605551275463989, 0, 0)\n",
      "Hausdorff distance: (3.605551275463989, 0, 0)\n"
     ]
    }
   ],
   "source": [
    "point_d = (3, 4)\n",
    "point_e = (6, 2)\n",
    "shape = (7, 7)\n",
    "\n",
    "image_1 = np.zeros(shape, dtype=bool)\n",
    "image_1[point_d] = True\n",
    "\n",
    "image_2 = np.zeros(shape, dtype=bool)\n",
    "image_2[point_e] = True\n",
    "\n",
    "# Extract coordinates of True pixels\n",
    "coords_d = np.argwhere(image_1)  # Returns [[3, 0]]\n",
    "coords_e = np.argwhere(image_2)  # Returns [[6, 0]]\n",
    "\n",
    "# directed_hausdorff expects 2D arrays where each ROW is a point\n",
    "# Reshape if necessary (it often is for single-point sets)\n",
    "coords_d = coords_d.reshape(-1, 2)  # Ensures it's a 2D array: [[3, 0]]\n",
    "coords_e = coords_e.reshape(-1, 2)  # Ensures it's a 2D array: [[6, 0]]\n",
    "\n",
    "\n",
    "dhd_d_to_e = directed_hausdorff(coords_d, coords_e)\n",
    "dhd_e_to_d = directed_hausdorff(coords_e, coords_d)\n",
    "\n",
    "print(f\"Directed Hausdorff distance from a to b: {dhd_d_to_e}\")\n",
    "print(f\"Directed Hausdorff distance from b to a: {dhd_e_to_d}\")\n",
    "\n",
    "hd = max(dhd_d_to_e, dhd_e_to_d)\n",
    "print(f\"Hausdorff distance: {hd}\")"
   ]
  },
  {
   "cell_type": "code",
   "execution_count": null,
   "metadata": {},
   "outputs": [
    {
     "data": {
      "text/plain": [
       "(4.242640687119285, 2, 2)"
      ]
     },
     "execution_count": 20,
     "metadata": {},
     "output_type": "execute_result"
    }
   ],
   "source": [
    "coords_a = np.array([[1, 1], [2, 2], [3, 3]])\n",
    "coords_b = np.array([[4, 4], [5, 5], [6, 6]])\n",
    "dir_hd = directed_hausdorff(coords_b, coords_a)\n",
    "dir_hd"
   ]
  },
  {
   "cell_type": "code",
   "execution_count": 7,
   "metadata": {},
   "outputs": [
    {
     "data": {
      "image/png": "[encoded data removed]",
      "text/plain": [
       "<Figure size 640x480 with 1 Axes>"
      ]
     },
     "metadata": {},
     "output_type": "display_data"
    }
   ],
   "source": [
    "shape = (60, 60)\n",
    "image = np.zeros(shape)\n",
    "\n",
    "# Create a diamond-like shape where the four corners form the 1st set of points\n",
    "x_diamond = 30\n",
    "y_diamond = 30\n",
    "r = 10\n",
    "\n",
    "fig, ax = plt.subplots()\n",
    "plt_x = [0, 1, 0, -1]\n",
    "plt_y = [1, 0, -1, 0]\n",
    "\n",
    "set_ax = [(x_diamond + r * x) for x in plt_x]\n",
    "set_ay = [(y_diamond + r * y) for y in plt_y]\n",
    "plt.plot(set_ax, set_ay, 'or')\n",
    "\n",
    "# Create a kite-like shape where the four corners form the 2nd set of points\n",
    "x_kite = 30\n",
    "y_kite = 30\n",
    "x_r = 15\n",
    "y_r = 20\n",
    "\n",
    "set_bx = [(x_kite + x_r * x) for x in plt_x]\n",
    "set_by = [(y_kite + y_r * y) for y in plt_y]\n",
    "plt.plot(set_bx, set_by, 'og')\n",
    "\n",
    "# Set up the data to compute the Hausdorff distance\n",
    "coords_a = np.zeros(shape, dtype=bool)\n",
    "coords_b = np.zeros(shape, dtype=bool)\n",
    "for x, y in zip(set_ax, set_ay):\n",
    "    coords_a[(x, y)] = True\n",
    "\n",
    "for x, y in zip(set_bx, set_by):\n",
    "    coords_b[(x, y)] = True\n",
    "\n",
    "# Call the Hausdorff function on the coordinates\n",
    "hausdorff_distance(coords_a, coords_b)\n",
    "hausdorff_point_a, hausdorff_point_b = hausdorff_pair(coords_a, coords_b)\n",
    "\n",
    "# Plot the lines that shows the length of the Hausdorff distance\n",
    "x_line = [30, 30]\n",
    "y_line = [20, 10]\n",
    "plt.plot(x_line, y_line, 'y')\n",
    "\n",
    "x_line = [30, 30]\n",
    "y_line = [40, 50]\n",
    "plt.plot(x_line, y_line, 'y')\n",
    "\n",
    "# Plot circles to show that at this distance, the Hausdorff distance can\n",
    "# travel to its nearest neighbor (in this case, from the kite to diamond)\n",
    "ax.add_artist(plt.Circle((30, 10), 10, color='y', fill=None))\n",
    "ax.add_artist(plt.Circle((30, 50), 10, color='y', fill=None))\n",
    "ax.add_artist(plt.Circle((15, 30), 10, color='y', fill=None))\n",
    "ax.add_artist(plt.Circle((45, 30), 10, color='y', fill=None))\n",
    "\n",
    "# Annotate the returned pair of points that are Hausdorff distance apart\n",
    "ax.annotate(\n",
    "    'a',\n",
    "    xy=hausdorff_point_a,\n",
    "    xytext=(35, 15),\n",
    "    arrowprops=dict(facecolor='red', shrink=0.005),\n",
    ")\n",
    "ax.annotate(\n",
    "    'b',\n",
    "    xy=hausdorff_point_b,\n",
    "    xytext=(35, 5),\n",
    "    arrowprops=dict(facecolor='green', shrink=0.005),\n",
    ")\n",
    "\n",
    "ax.imshow(image, cmap=plt.cm.gray)\n",
    "ax.axis((0, 60, 60, 0))\n",
    "plt.show()"
   ]
  },
  {
   "cell_type": "code",
   "execution_count": null,
   "metadata": {},
   "outputs": [],
   "source": []
  }
 ],
 "metadata": {
  "kernelspec": {
   "display_name": ".ucair_01_venv",
   "language": "python",
   "name": "python3"
  },
  "language_info": {
   "codemirror_mode": {
    "name": "ipython",
    "version": 3
   },
   "file_extension": ".py",
   "mimetype": "text/x-python",
   "name": "python",
   "nbconvert_exporter": "python",
   "pygments_lexer": "ipython3",
   "version": "3.12.3"
  }
 },
 "nbformat": 4,
 "nbformat_minor": 2
}
